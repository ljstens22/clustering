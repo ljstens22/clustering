{
 "cells": [
  {
   "cell_type": "markdown",
   "id": "4360cb29",
   "metadata": {},
   "source": [
    "## Challenge Quiz 8: Clustering"
   ]
  },
  {
   "cell_type": "code",
   "execution_count": null,
   "id": "096141f0",
   "metadata": {},
   "outputs": [],
   "source": [
    "# Load Libraries\n",
    "import pandas as pd\n",
    "import numpy as np\n",
    "from sklearn.preprocessing import StandardScaler\n",
    "from sklearn.cluster import KMeans\n",
    "import matplotlib.pyplot as plt\n",
    "from read_data_new import read_data\n",
    "%matplotlib inline"
   ]
  },
  {
   "cell_type": "markdown",
   "id": "3fede894",
   "metadata": {},
   "source": [
    "###  Load the netflow dataset from cyber_data.csv using read_data_new.py."
   ]
  },
  {
   "cell_type": "code",
   "execution_count": null,
   "id": "38bd8fc2",
   "metadata": {},
   "outputs": [],
   "source": [
    "# Load data\n",
    "train, test = read_data()\n",
    "features_train = train.iloc[:,:-1]\n",
    "target_train = train.iloc[:, -1]"
   ]
  },
  {
   "cell_type": "code",
   "execution_count": null,
   "id": "cd1ab85d",
   "metadata": {},
   "outputs": [],
   "source": [
    "# get summary of dataset\n",
    "def cyber_data_summary():\n",
    "    print('Shape of the data: {}'.format(np.shape(train)))\n",
    "    feature_names = features_train.columns.tolist()\n",
    "    print('Names of the features: {}'.format(feature_names))"
   ]
  },
  {
   "cell_type": "markdown",
   "id": "75d93611",
   "metadata": {},
   "source": [
    "## Question 1: \n",
    "Which feature in the netflow data set is most highly correlated with the classes?"
   ]
  },
  {
   "cell_type": "code",
   "execution_count": null,
   "id": "c8f5caac",
   "metadata": {},
   "outputs": [],
   "source": [
    "# Answer here\n",
    "..."
   ]
  },
  {
   "cell_type": "markdown",
   "id": "58b02ede",
   "metadata": {},
   "source": [
    "## Question 2:  \n",
    "Plot a histogram of each of the feature variables.  Which features exhibit  multimodal distributions?"
   ]
  },
  {
   "cell_type": "code",
   "execution_count": null,
   "id": "1009d06a",
   "metadata": {},
   "outputs": [],
   "source": [
    "# Answer here\n",
    "..."
   ]
  },
  {
   "cell_type": "markdown",
   "id": "8b336b06",
   "metadata": {},
   "source": [
    "## Question 3: \n",
    "Which two features exhibit the strongest correlation?\n"
   ]
  },
  {
   "cell_type": "code",
   "execution_count": null,
   "id": "deae1125",
   "metadata": {
    "scrolled": false
   },
   "outputs": [],
   "source": [
    "# Answer here\n",
    "..."
   ]
  },
  {
   "cell_type": "markdown",
   "id": "921705d9",
   "metadata": {},
   "source": [
    "## Question 4:  \n",
    "Use K-means to cluster the netflow data into 2 groups using the feature data. When creating the $k$-means object, use the default parameters, with the exception of `n_clusters = 2`, `random_state = 0`. Standardize the feature data before training your model. After training the model, which of the following statements are true?\n",
    "\n",
    "* a. The model returns 2 seven-dimensional centroids.\n",
    "* b. Some datapoints are not labeled.\n",
    "* c. The inertia of the model is under 1000.\n",
    "* d. It takes less than 5 iterations for the model to converge."
   ]
  },
  {
   "cell_type": "code",
   "execution_count": null,
   "id": "9bee810d",
   "metadata": {},
   "outputs": [],
   "source": [
    "# Answer here\n",
    "\n",
    "# Standardize features\n",
    "scaler = StandardScaler()\n",
    "...\n",
    "\n",
    "# Create K-means object\n",
    "\n",
    "# Train model \n",
    "..."
   ]
  },
  {
   "cell_type": "markdown",
   "id": "95a55727",
   "metadata": {},
   "source": [
    "## Another helper function to display results of training $K-$means classifier."
   ]
  },
  {
   "cell_type": "code",
   "execution_count": null,
   "id": "d70b272d",
   "metadata": {},
   "outputs": [],
   "source": [
    "#  https://scikit-learn.org/stable/modules/generated/sklearn.cluster.KMeans.html?highlight=kmean#sklearn.cluster.KMeans\n",
    "\n",
    "def kmeans_dump(model):\n",
    "    print('cluster centers:\\n{}'.format(model.cluster_centers_))\n",
    "    print('labels:\\n{}'.format(model.labels_))\n",
    "    print('interia: {}'.format(model.inertia_))\n",
    "    print('number of iterations: {}'.format(model.n_iter_))\n",
    "    return"
   ]
  },
  {
   "cell_type": "code",
   "execution_count": null,
   "id": "d297604b",
   "metadata": {},
   "outputs": [],
   "source": [
    "# run kmeans_dump() and interpret results"
   ]
  },
  {
   "cell_type": "markdown",
   "id": "cc67b8fd",
   "metadata": {},
   "source": [
    "## Question 5:  \n",
    "An estimate for the optimal number of clusters to use for the k-means algorithm can be computed using the 'elbow method.'  Compute the WCSS  for k-means models with varying numbers of clusters to form.  Graph these results (WCSS vs. `n_clusters`).  Use values of `n_clusters` from  from 2 to 20.  The break in the curve or 'elbow'  is the optimal number of clusters into which the data may be clustered.  Where does this break in the curve or elbow occur?\n",
    "\n",
    "\n",
    "* a. 5 clusters\n",
    "* b. 8 clusters\n",
    "* c. 10 clusters\n",
    "* d. 14 clusters\n",
    "* e. There is no break in the curve"
   ]
  },
  {
   "cell_type": "markdown",
   "id": "f540fe02",
   "metadata": {},
   "source": [
    "## Helpful/Insightful pairwise plot:"
   ]
  },
  {
   "cell_type": "code",
   "execution_count": null,
   "id": "19cc3579",
   "metadata": {},
   "outputs": [],
   "source": [
    "# sketch of insightful plots\n",
    "plt.scatter(features[y_predicted == 0,0], features[y_predicted == 0,1], s = 100, c = 'red', label = '0')\n",
    "plt.scatter(features[y_predicted == 1,0], features[y_predicted == 1,1], s = 100, c = 'green', label = '1')\n",
    "# plot centroids also... (label = 'centroid')\n",
    "plt.xlabel('feature 1')\n",
    "plt.ylabel('feature 2')\n",
    "plt.legend()\n",
    "plt.show()"
   ]
  },
  {
   "cell_type": "markdown",
   "id": "1781358c",
   "metadata": {},
   "source": [
    "## Question 6:\n",
    "Use **principal component analysis** to decompose the netflow feature data into two principal components. Use default parameters with the following exceptions: `n_components = 2`, `whiten = True`. Generate a scatter plot of the data. Plot the first component vs. the second component. Train and fit a k-means classifier to this data. Use default parameters with the following exceptions: `n_clusters = 2`, `random_state = 0`. Plot the resulting cluster centers on this plot and use colored markers to identify data points that belong to the same class and distinguish data points that belong to a different class (i.e., all data points that belong to the same class are the same color. Points in different class are a different color). Which of the following statements are true?\n",
    "\n",
    "a. Without using colored markers to\n",
    "distinguish between clusters it is\n",
    "difficult to see two distinct clusters\n",
    "\n",
    "b. The whiten = True parameter ensures\n",
    "that the principal components are\n",
    "uncorrelated and have unit variances.\n",
    "\n",
    "c. The inertia computed using the\n",
    "principal component features is greater\n",
    "than the inertia computed using the 8\n",
    "standardized features."
   ]
  },
  {
   "cell_type": "code",
   "execution_count": null,
   "id": "0fba227b",
   "metadata": {},
   "outputs": [],
   "source": [
    "# Answer here\n",
    "from sklearn.decomposition import PCA\n",
    "..."
   ]
  },
  {
   "cell_type": "markdown",
   "id": "1bbe894a",
   "metadata": {},
   "source": [
    "## Question 7:\n",
    "\n",
    "Compute the silhouette score for a $k$-means classifiers trained using the 8 standardized features and one using the 2 features extracted from PCA\n",
    "decomposition. Train your models using default parameters, with the following exceptions: `n_clusters = 2`, `random_state = 0`."
   ]
  },
  {
   "cell_type": "code",
   "execution_count": null,
   "id": "5c12a66e",
   "metadata": {},
   "outputs": [],
   "source": [
    "# Answer here\n",
    "..."
   ]
  },
  {
   "cell_type": "markdown",
   "id": "92df1d9d",
   "metadata": {},
   "source": [
    "## Question 8: \n",
    "Compute the silhouette score for k-means cluster models trained using the features extracted from the PCA decomposition.  While training your models, use default parameters, with the following exceptions: `init = k-means++`, `max_iter = 300`, `n_init = 10`, `random_state = 0`.  Vary the number of clusters from 2 to 12 for this analysis. \n",
    "\n",
    "Which of the following statements is true?\n",
    "\n",
    "\n",
    "a. The silhoutte score is largest in magnitude when there are 6 clusters. \t\n",
    "\n",
    "b. The silhoutte score can be negative. \n",
    "\n",
    "c. The best cluster performance is expected when the silhouette score is lowest. \n",
    "\n",
    "d. The silhoutte score increases as the number of clusters increases.\n",
    "\n",
    "e. Ideal clustering is indicated by a silhoutte score that approaches zero. "
   ]
  },
  {
   "cell_type": "code",
   "execution_count": null,
   "id": "39563efd",
   "metadata": {
    "scrolled": true
   },
   "outputs": [],
   "source": [
    "# Answer here\n",
    "..."
   ]
  }
 ],
 "metadata": {
  "kernelspec": {
   "display_name": "Python 3",
   "language": "python",
   "name": "python3"
  },
  "language_info": {
   "codemirror_mode": {
    "name": "ipython",
    "version": 3
   },
   "file_extension": ".py",
   "mimetype": "text/x-python",
   "name": "python",
   "nbconvert_exporter": "python",
   "pygments_lexer": "ipython3",
   "version": "3.9.18"
  }
 },
 "nbformat": 4,
 "nbformat_minor": 5
}
